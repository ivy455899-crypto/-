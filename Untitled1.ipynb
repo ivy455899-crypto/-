{
  "nbformat": 4,
  "nbformat_minor": 0,
  "metadata": {
    "colab": {
      "provenance": [],
      "authorship_tag": "ABX9TyM17bIsYvnFcy+FbCjZ+nnp",
      "include_colab_link": true
    },
    "kernelspec": {
      "name": "python3",
      "display_name": "Python 3"
    },
    "language_info": {
      "name": "python"
    }
  },
  "cells": [
    {
      "cell_type": "markdown",
      "metadata": {
        "id": "view-in-github",
        "colab_type": "text"
      },
      "source": [
        "<a href=\"https://colab.research.google.com/github/ivy455899-crypto/-/blob/main/Untitled1.ipynb\" target=\"_parent\"><img src=\"https://colab.research.google.com/assets/colab-badge.svg\" alt=\"Open In Colab\"/></a>"
      ]
    },
    {
      "cell_type": "markdown",
      "source": [
        "healing-generator/\n",
        "├── tailwind.config.js\n",
        "├── postcss.config.js\n",
        "├── package.json\n",
        "├── src/\n",
        "│   └── ...\n",
        "\n"
      ],
      "metadata": {
        "id": "Zzn6KH2XpQF3"
      }
    },
    {
      "cell_type": "markdown",
      "source": [
        "@tailwind base;\n",
        "@tailwind components;\n",
        "@tailwind utilities;\n"
      ],
      "metadata": {
        "id": "lTgCFVQSIwlr"
      }
    },
    {
      "cell_type": "markdown",
      "source": [
        "\n",
        "\n",
        "\n"
      ],
      "metadata": {
        "id": "d33WtT8FM0nV"
      }
    },
    {
      "cell_type": "markdown",
      "source": [
        "// App.jsx\n",
        "import { useState } from 'react';\n",
        "import './App.css';\n",
        "\n",
        "function App() {\n",
        "  const [size, setSize] = useState('A4');\n",
        "  const [theme, setTheme] = useState('Mandala');\n",
        "  const [text, setText] = useState('');\n",
        "\n",
        "  const canvasSize = size === 'A4' ? { width: 210, height: 297 } : { width: 216, height: 216 };\n",
        "\n",
        "  return (\n",
        "    <div className=\"min-h-screen bg-gray-100 p-6\">\n",
        "      <h1 className=\"text-2xl font-bold mb-4\">心靈著色生成器</h1>\n",
        "\n",
        "      {/* 尺寸選擇 */}\n",
        "      <div className=\"mb-4\">\n",
        "        <label className=\"block font-semibold mb-1\">選擇尺寸:</label>\n",
        "        <select value={size} onChange={(e) => setSize(e.target.value)} className=\"p-2 border rounded\">\n",
        "          <option value=\"A4\">A4 (210x297mm)</option>\n",
        "          <option value=\"Square\">8.5×8.5 in (216×216mm)</option>\n",
        "        </select>\n",
        "      </div>\n",
        "\n",
        "      {/* 主題圖案選擇 */}\n",
        "      <div className=\"mb-4\">\n",
        "        <label className=\"block font-semibold mb-1\">主題圖案:</label>\n",
        "        <select value={theme} onChange={(e) => setTheme(e.target.value)} className=\"p-2 border rounded\">\n",
        "          <option value=\"Mandala\">曼陀羅</option>\n",
        "          <option value=\"Floral\">花卉</option>\n",
        "          <option value=\"Zen\">禪意圖騰</option>\n",
        "          <option value=\"Nature\">自然風景</option>\n",
        "        </select>\n",
        "      </div>\n",
        "\n",
        "      {/* 背景文字輸入 */}\n",
        "      <div className=\"mb-4\">\n",
        "        <label className=\"block font-semibold mb-1\">背景文字（可輸入經文或語錄）:</label>\n",
        "        <textarea\n",
        "          value={text}\n",
        "          onChange={(e) => setText(e.target.value)}\n",
        "          rows=\"4\"\n",
        "          className=\"w-full p-2 border rounded\"\n",
        "          placeholder=\"例如：妙法蓮華經...\"\n",
        "        />\n",
        "      </div>\n",
        "\n",
        "      {/* 預覽區域 */}\n",
        "      <div className=\"mt-6\">\n",
        "        <h2 className=\"text-xl font-semibold mb-2\">預覽:</h2>\n",
        "        <div\n",
        "          className=\"bg-white border shadow-md flex items-center justify-center\"\n",
        "          style={{\n",
        "            width: `${canvasSize.width}px`,\n",
        "            height: `${canvasSize.height}px`,\n",
        "            transform: 'scale(2)', // 放大預覽\n",
        "            transformOrigin: 'top left',\n",
        "          }}\n",
        "        >\n",
        "          <p className=\"text-gray-400 text-center p-4\">\n",
        "            [這裡將顯示主題圖案與背景文字排版]<br />\n",
        "            主題：{theme}<br />\n",
        "            經文：{text.slice(0, 50)}...\n",
        "          </p>\n",
        "        </div>\n",
        "      </div>\n",
        "    </div>\n",
        "  );\n",
        "}\n",
        "\n",
        "export default App;"
      ],
      "metadata": {
        "id": "XreEnbP2pYhw"
      }
    },
    {
      "cell_type": "markdown",
      "metadata": {
        "id": "7338561f"
      },
      "source": [
        "Let's try running the commands in separate cells as a workaround for the syntax error."
      ]
    },
    {
      "cell_type": "markdown",
      "source": [
        "cd healing-generator\n",
        "npm install react react-dom react-router-dom zustand jspdf canvg"
      ],
      "metadata": {
        "id": "32e758ba"
      }
    },
    {
      "cell_type": "markdown",
      "source": [
        "cd healing-generator\n",
        "npm install -D tailwindcss postcss autoprefixer"
      ],
      "metadata": {
        "id": "d30c188a"
      }
    },
    {
      "cell_type": "markdown",
      "source": [
        "cd healing-generator\n",
        "npx tailwindcss init -p"
      ],
      "metadata": {
        "id": "9869c215"
      }
    },
    {
      "cell_type": "markdown",
      "metadata": {
        "id": "564b33aa"
      },
      "source": [
        "Let's combine the installation and initialization steps into one cell to ensure the commands run in the correct directory."
      ]
    },
    {
      "cell_type": "markdown",
      "source": [
        "cd healing-generator\n",
        "npm install react react-dom react-router-dom zustand jspdf canvg\n",
        "npm install -D tailwindcss postcss autoprefixer\n",
        "npx tailwindcss init -p"
      ],
      "metadata": {
        "id": "3cc909ac"
      }
    },
    {
      "cell_type": "markdown",
      "source": [
        "ctx.font = '24px serif';\n",
        "ctx.fillStyle = 'rgba(150,150,150,0.3)'; // 淡化填色\n",
        "ctx.strokeStyle = 'rgba(100,100,100,0.5)'; // 描邊\n",
        "ctx.lineWidth = 1;\n",
        "ctx.textAlign = 'center';\n",
        "\n",
        "// 自動換行處理\n",
        "const lines = text.split('\\n');\n",
        "lines.forEach((line, i) => {\n",
        "  const y = canvas.height / 2 + i * 30;\n",
        "  ctx.fillText(line, canvas.width / 2, y);\n",
        "  ctx.strokeText(line, canvas.width / 2, y);\n",
        "});\n"
      ],
      "metadata": {
        "id": "01EX6ppSqcZN"
      }
    },
    {
      "cell_type": "markdown",
      "source": [
        "import { Canvg } from 'canvg';\n",
        "\n",
        "const drawSVG = async (svgString, canvas) => {\n",
        "  const ctx = canvas.getContext('2d');\n",
        "  const v = await Canvg.fromString(ctx, svgString);\n",
        "  await v.render();\n",
        "};\n"
      ],
      "metadata": {
        "id": "6-OpTI2yqj9N"
      }
    },
    {
      "cell_type": "markdown",
      "source": [
        "ctx.strokeStyle = '#999';\n",
        "ctx.lineWidth = 0.5;\n",
        "ctx.strokeRect(3, 3, canvas.width - 6, canvas.height - 6); // 裁切框\n"
      ],
      "metadata": {
        "id": "ZlQFZsKAqof2"
      }
    },
    {
      "cell_type": "markdown",
      "source": [
        "const generatePages = (count, themes, texts) => {\n",
        "  const pages = [];\n",
        "  for (let i = 0; i < count; i++) {\n",
        "    const theme = themes[i % themes.length];\n",
        "    const text = texts[i % texts.length];\n",
        "    const canvas = document.createElement('canvas');\n",
        "    // 設定尺寸與出血\n",
        "    // 載入圖案與文字\n",
        "    // 合成圖像\n",
        "    pages.push(canvas);\n",
        "  }\n",
        "  return pages;\n",
        "};\n"
      ],
      "metadata": {
        "id": "L1WR9P-Nqsae"
      }
    },
    {
      "cell_type": "markdown",
      "source": [
        "import React from 'react';\n",
        "import ReactDOM from 'react-dom/client';\n",
        "import App from './App.jsx';\n",
        "import './index.css'; // Tailwind CSS\n",
        "\n",
        "ReactDOM.createRoot(document.getElementById('root')).render(\n",
        "  <React.StrictMode>\n",
        "    <App />\n",
        "  </React.StrictMode>\n",
        ");\n"
      ],
      "metadata": {
        "id": "ZKv1PVgnGC25"
      }
    },
    {
      "cell_type": "markdown",
      "source": [
        "import { BrowserRouter as Router, Routes, Route } from 'react-router-dom';\n",
        "import HomePage from './pages/HomePage.jsx';\n",
        "import PreviewPage from './pages/PreviewPage.jsx';\n",
        "import ExportPage from './pages/ExportPage.jsx';\n",
        "\n",
        "function App() {\n",
        "  return (\n",
        "    <Router>\n",
        "      <div className=\"min-h-screen bg-gray-100 p-6\">\n",
        "        <Routes>\n",
        "          <Route path=\"/\" element={<HomePage />} />\n",
        "          <Route path=\"/preview\" element={<PreviewPage />} />\n",
        "          <Route path=\"/export\" element={<ExportPage />} />\n",
        "        </Routes>\n",
        "      </div>\n",
        "    </Router>\n",
        "  );\n",
        "}\n",
        "\n",
        "export default App;\n"
      ],
      "metadata": {
        "id": "FZxqyCZxGMCA"
      }
    },
    {
      "cell_type": "markdown",
      "source": [
        "[\n",
        "  {\n",
        "    \"id\": \"mandala01\",\n",
        "    \"type\": \"SVG\",\n",
        "    \"theme\": \"曼陀羅\",\n",
        "    \"src\": \"/assets/mandala01.svg\"\n",
        "  },\n",
        "  {\n",
        "    \"id\": \"flower02\",\n",
        "    \"type\": \"PNG\",\n",
        "    \"theme\": \"花卉\",\n",
        "    \"src\": \"/assets/flower02.png\"\n",
        "  }\n",
        "]\n"
      ],
      "metadata": {
        "id": "hpOJ6gMCqv3e"
      }
    },
    {
      "cell_type": "markdown",
      "source": [
        "[\n",
        "  {\n",
        "    \"id\": \"mandala01\",\n",
        "    \"name\": \"曼陀羅 01\",\n",
        "    \"src\": \"/assets/mandala01.svg\"\n",
        "  },\n",
        "  {\n",
        "    \"id\": \"flower01\",\n",
        "    \"name\": \"花卉 01\",\n",
        "    \"src\": \"/assets/flower01.svg\"\n",
        "  }\n",
        "]\n"
      ],
      "metadata": {
        "id": "52DXUywPq1RV"
      }
    },
    {
      "cell_type": "markdown",
      "source": [
        "function AssetSelector({ assets, onSelect }) {\n",
        "  return (\n",
        "    <div className=\"mb-4\">\n",
        "      <label className=\"block font-semibold mb-1\">選擇圖案素材：</label>\n",
        "      <select onChange={(e) => onSelect(e.target.value)} className=\"p-2 border rounded\">\n",
        "        {assets.map((asset) => (\n",
        "          <option key={asset.id} value={asset.src}>{asset.name}</option>\n",
        "        ))}\n",
        "      </select>\n",
        "    </div>\n",
        "  );\n",
        "}\n"
      ],
      "metadata": {
        "id": "8JJYWej_q59H"
      }
    },
    {
      "cell_type": "markdown",
      "source": [
        "import { Canvg } from 'canvg';\n",
        "\n",
        "async function drawSVGToCanvas(svgUrl, canvas) {\n",
        "  const ctx = canvas.getContext('2d');\n",
        "  const response = await fetch(svgUrl);\n",
        "  const svgText = await response.text();\n",
        "  const v = await Canvg.fromString(ctx, svgText);\n",
        "  await v.render();\n",
        "}\n"
      ],
      "metadata": {
        "id": "q6Bgps1Bq-V_"
      }
    },
    {
      "cell_type": "markdown",
      "source": [
        "function drawText(ctx, text, x, y, maxWidth, lineHeight) {\n",
        "  const lines = text.split('\\n');\n",
        "  ctx.font = '20px serif';\n",
        "  ctx.fillStyle = 'rgba(150,150,150,0.3)';\n",
        "  ctx.strokeStyle = 'rgba(100,100,100,0.5)';\n",
        "  ctx.lineWidth = 1;\n",
        "  ctx.textAlign = 'center';\n",
        "\n",
        "  lines.forEach((line, i) => {\n",
        "    const yPos = y + i * lineHeight;\n",
        "    ctx.fillText(line, x, yPos, maxWidth);\n",
        "    ctx.strokeText(line, x, yPos, maxWidth);\n",
        "  });\n",
        "}\n"
      ],
      "metadata": {
        "id": "UrkNT0IRrB4v"
      }
    },
    {
      "cell_type": "markdown",
      "source": [
        "async function generatePages({ count, canvasSize, assets, texts }) {\n",
        "  const pages = [];\n",
        "\n",
        "  for (let i = 0; i < count; i++) {\n",
        "    const canvas = document.createElement('canvas');\n",
        "    canvas.width = canvasSize.width + 6; // 出血邊距\n",
        "    canvas.height = canvasSize.height + 6;\n",
        "\n",
        "    const ctx = canvas.getContext('2d');\n",
        "\n",
        "    // 裁切線\n",
        "    ctx.strokeStyle = '#999';\n",
        "    ctx.lineWidth = 0.5;\n",
        "    ctx.strokeRect(3, 3, canvasSize.width, canvasSize.height);\n",
        "\n",
        "    // 載入 SVG 圖案\n",
        "    await drawSVGToCanvas(assets[i % assets.length].src, canvas);\n",
        "\n",
        "    // 加入文字\n",
        "    drawText(ctx, texts[i % texts.length], canvas.width / 2, canvas.height / 2, canvas.width - 40, 30);\n",
        "\n",
        "    pages.push(canvas);\n",
        "  }\n",
        "\n",
        "  return pages;\n",
        "}\n"
      ],
      "metadata": {
        "id": "hkDajnOrrGFo"
      }
    },
    {
      "cell_type": "markdown",
      "source": [
        "import jsPDF from 'jspdf';\n",
        "\n",
        "function exportPagesAsPDF(pages, format = 'A4') {\n",
        "  const pdf = new jsPDF({ unit: 'pt', format: format === 'A4' ? 'a4' : [612, 612] });\n",
        "\n",
        "  pages.forEach((canvas, i) => {\n",
        "    const imgData = canvas.toDataURL('image/png');\n",
        "    if (i > 0) pdf.addPage();\n",
        "    pdf.addImage(imgData, 'PNG', 0, 0, canvas.width, canvas.height);\n",
        "  });\n",
        "\n",
        "  pdf.save('healing-pages.pdf');\n",
        "}\n",
        "\n",
        "function exportPagesAsPNG(pages) {\n",
        "  pages.forEach((canvas, i) => {\n",
        "    const link = document.createElement('a');\n",
        "    link.download = `page-${i + 1}.png`;\n",
        "    link.href = canvas.toDataURL();\n",
        "    link.click();\n",
        "  });\n",
        "}\n"
      ],
      "metadata": {
        "id": "49ETzgk-rKcA"
      }
    },
    {
      "cell_type": "markdown",
      "source": [
        "/public\n",
        "  /assets\n",
        "    mandala01.svg\n",
        "    flower01.svg\n",
        "    zen01.svg\n",
        "  assets.json\n"
      ],
      "metadata": {
        "id": "GFVe1uAKrO_o"
      }
    },
    {
      "cell_type": "markdown",
      "source": [
        "[\n",
        "  {\n",
        "    \"id\": \"mandala01\",\n",
        "    \"name\": \"曼陀羅 01\",\n",
        "    \"src\": \"/assets/mandala01.svg\"\n",
        "  },\n",
        "  {\n",
        "    \"id\": \"flower01\",\n",
        "    \"name\": \"花卉 01\",\n",
        "    \"src\": \"/assets/flower01.svg\"\n",
        "  },\n",
        "  {\n",
        "    \"id\": \"zen01\",\n",
        "    \"name\": \"禪意圖騰 01\",\n",
        "    \"src\": \"/assets/zen01.svg\"\n",
        "  }\n",
        "]\n"
      ],
      "metadata": {
        "id": "W7-0oxflrTy5"
      }
    },
    {
      "cell_type": "markdown",
      "source": [
        "\n",
        "const canvasSize = size === 'A4'\n",
        "  ? { width: 216 * 3.78, height: 303 * 3.78 } // mm → px (3.78 = 96dpi)\n",
        "  : { width: 222 * 3.78, height: 222 * 3.78 };\n"
      ],
      "metadata": {
        "id": "g19PJrKFrXc5"
      }
    },
    {
      "cell_type": "markdown",
      "source": [
        "ctx.strokeStyle = '#999';\n",
        "ctx.lineWidth = 0.5;\n",
        "ctx.strokeRect(3, 3, canvas.width - 6, canvas.height - 6);\n"
      ],
      "metadata": {
        "id": "bPuAMTWHrdTR"
      }
    },
    {
      "cell_type": "markdown",
      "source": [
        "function drawTextBlock(ctx, text, x, y, maxWidth, lineHeight) {\n",
        "  const lines = text.split('\\n');\n",
        "  ctx.font = '24px serif';\n",
        "  ctx.fillStyle = 'rgba(150,150,150,0.3)';\n",
        "  ctx.strokeStyle = 'rgba(100,100,100,0.5)';\n",
        "  ctx.lineWidth = 1;\n",
        "  ctx.textAlign = 'center';\n",
        "\n",
        "  lines.forEach((line, i) => {\n",
        "    const yPos = y + i * lineHeight;\n",
        "    ctx.fillText(line, x, yPos, maxWidth);\n",
        "    ctx.strokeText(line, x, yPos, maxWidth);\n",
        "  });\n",
        "}\n"
      ],
      "metadata": {
        "id": "6ZBljGWbriHB"
      }
    },
    {
      "cell_type": "markdown",
      "source": [
        "async function generatePages({ count, canvasSize, selectedAssets, textBlocks }) {\n",
        "  const pages = [];\n",
        "\n",
        "  for (let i = 0; i < count; i++) {\n",
        "    const canvas = document.createElement('canvas');\n",
        "    canvas.width = canvasSize.width;\n",
        "    canvas.height = canvasSize.height;\n",
        "    const ctx = canvas.getContext('2d');\n",
        "\n",
        "    // 出血與裁切線\n",
        "    ctx.strokeRect(3, 3, canvas.width - 6, canvas.height - 6);\n",
        "\n",
        "    // 載入 SVG 圖案\n",
        "    await drawSVGToCanvas(selectedAssets[i % selectedAssets.length].src, canvas);\n",
        "\n",
        "    // 加入文字\n",
        "    drawTextBlock(ctx, textBlocks[i % textBlocks.length], canvas.width / 2, canvas.height / 2, canvas.width - 40, 30);\n",
        "\n",
        "    pages.push(canvas);\n",
        "  }\n",
        "\n",
        "  return pages;\n",
        "}\n"
      ],
      "metadata": {
        "id": "vCTk-Oxzrmlq"
      }
    },
    {
      "cell_type": "markdown",
      "source": [
        "function exportAsPDF(pages, format) {\n",
        "  const pdf = new jsPDF({ unit: 'pt', format: format === 'A4' ? 'a4' : [612, 612] });\n",
        "  pages.forEach((canvas, i) => {\n",
        "    const imgData = canvas.toDataURL('image/png');\n",
        "    if (i > 0) pdf.addPage();\n",
        "    pdf.addImage(imgData, 'PNG', 0, 0, canvas.width, canvas.height);\n",
        "  });\n",
        "  pdf.save('healing-pages.pdf');\n",
        "}\n",
        "\n",
        "function exportAsPNG(pages) {\n",
        "  pages.forEach((canvas, i) => {\n",
        "    const link = document.createElement('a');\n",
        "    link.download = `page-${i + 1}.png`;\n",
        "    link.href = canvas.toDataURL();\n",
        "    link.click();\n",
        "  });\n",
        "}\n"
      ],
      "metadata": {
        "id": "AQS442lerqza"
      }
    },
    {
      "cell_type": "markdown",
      "source": [
        "/healing-generator\n",
        "├── public/\n",
        "│   └── assets/         # 圖案素材（SVG/PNG）\n",
        "│       └── assets.json # 素材清單\n",
        "├── src/\n",
        "│   ├── assets/         # 素材載入模組\n",
        "│   ├── components/     # UI 元件（選擇器、表單、畫布）\n",
        "│   ├── pages/          # 路由頁面（首頁、預覽、匯出）\n",
        "│   ├── utils/          # 工具函式（Canvas、PDF、SVG）\n",
        "│   ├── store/          # 狀態管理（Zustand 或 Redux）\n",
        "│   ├── App.jsx         # 主應用入口\n",
        "│   └── main.jsx        # ReactDOM 渲染\n",
        "├── tailwind.config.js  # UI 樣式設定\n",
        "├── package.json\n",
        "└── README.md\n"
      ],
      "metadata": {
        "id": "xsYQZ-JtruiC"
      }
    },
    {
      "cell_type": "markdown",
      "source": [
        "// App.jsx\n",
        "import { BrowserRouter as Router, Routes, Route } from 'react-router-dom';\n",
        "import HomePage from './pages/HomePage';\n",
        "import PreviewPage from './pages/PreviewPage';\n",
        "import ExportPage from './pages/ExportPage';\n",
        "\n",
        "function App() {\n",
        "  return (\n",
        "    <Router>\n",
        "      <Routes>\n",
        "        <Route path=\"/\" element={<HomePage />} />\n",
        "        <Route path=\"/preview\" element={<PreviewPage />} />\n",
        "        <Route path=\"/export\" element={<ExportPage />} />\n",
        "      </Routes>\n",
        "    </Router>\n",
        "  );\n",
        "}\n",
        "\n",
        "export default App;\n"
      ],
      "metadata": {
        "id": "xunRU4FRryGT"
      }
    },
    {
      "cell_type": "markdown",
      "source": [
        "// store/useGeneratorStore.js\n",
        "import { create } from 'zustand';\n",
        "\n",
        "export const useGeneratorStore = create((set) => ({\n",
        "  size: 'A4',\n",
        "  count: 1,\n",
        "  selectedAsset: null,\n",
        "  textBlocks: [],\n",
        "  format: 'PDF',\n",
        "  setSize: (size) => set({ size }),\n",
        "  setCount: (count) => set({ count }),\n",
        "  setAsset: (asset) => set({ selectedAsset: asset }),\n",
        "  setTextBlocks: (blocks) => set({ textBlocks: blocks }),\n",
        "  setFormat: (format) => set({ format }),\n",
        "}));\n"
      ],
      "metadata": {
        "id": "_hcdn5LJr0-L"
      }
    },
    {
      "cell_type": "markdown",
      "source": [
        "function SizeSelector({ value, onChange }) {\n",
        "  return (\n",
        "    <select value={value} onChange={(e) => onChange(e.target.value)} className=\"p-2 border rounded\">\n",
        "      <option value=\"A4\">A4</option>\n",
        "      <option value=\"Square\">8.5×8.5 in</option>\n",
        "    </select>\n",
        "  );\n",
        "}\n"
      ],
      "metadata": {
        "id": "ALWzPUJUr4mb"
      }
    },
    {
      "cell_type": "markdown",
      "source": [
        "function AssetSelector({ assets, onSelect }) {\n",
        "  return (\n",
        "    <select onChange={(e) => onSelect(e.target.value)} className=\"p-2 border rounded\">\n",
        "      {assets.map((asset) => (\n",
        "        <option key={asset.id} value={asset.src}>{asset.name}</option>\n",
        "      ))}\n",
        "    </select>\n",
        "  );\n",
        "}\n"
      ],
      "metadata": {
        "id": "I7ad_DVRr8i7"
      }
    },
    {
      "cell_type": "markdown",
      "source": [
        "function TextInput({ value, onChange }) {\n",
        "  return (\n",
        "    <textarea\n",
        "      value={value}\n",
        "      onChange={(e) => onChange(e.target.value)}\n",
        "      rows=\"6\"\n",
        "      className=\"w-full p-2 border rounded\"\n",
        "      placeholder=\"輸入經文或語錄...\"\n",
        "    />\n",
        "  );\n",
        "}\n"
      ],
      "metadata": {
        "id": "BDNoUVzRr_Uz"
      }
    },
    {
      "cell_type": "markdown",
      "source": [
        "// PreviewPage.jsx\n",
        "import { useGeneratorStore } from '../store/useGeneratorStore';\n",
        "import { generatePages } from '../utils/drawCanvas';\n",
        "\n",
        "function PreviewPage() {\n",
        "  const { size, count, selectedAsset, textBlocks } = useGeneratorStore();\n",
        "  const [pages, setPages] = useState([]);\n",
        "\n",
        "  useEffect(() => {\n",
        "    async function generate() {\n",
        "      const result = await generatePages({ count, size, selectedAsset, textBlocks });\n",
        "      setPages(result);\n",
        "    }\n",
        "    generate();\n",
        "  }, [size, count, selectedAsset, textBlocks]);\n",
        "\n",
        "  return (\n",
        "    <div className=\"grid grid-cols-2 gap-4\">\n",
        "      {pages.map((canvas, i) => (\n",
        "        <div key={i} className=\"border shadow-md\">\n",
        "          <canvas ref={(ref) => ref?.getContext('2d')?.drawImage(canvas, 0, 0)} />\n",
        "        </div>\n",
        "      ))}\n",
        "    </div>\n",
        "  );\n",
        "}\n"
      ],
      "metadata": {
        "id": "kOI4uo5osDxl"
      }
    },
    {
      "cell_type": "markdown",
      "source": [
        "npm create vite@latest healing-generator -- --template react\n",
        "cd healing-generator\n",
        "npm install\n",
        "npm install -D tailwindcss postcss autoprefixer\n",
        "npx tailwindcss init -p\n"
      ],
      "metadata": {
        "id": "VVUMvkcosIM0"
      }
    },
    {
      "cell_type": "code",
      "source": [
        "content: [\"./index.html\", \"./src/**/*.{js,ts,jsx,tsx}\"]\n"
      ],
      "metadata": {
        "id": "tR6vom1QsKyU"
      },
      "execution_count": 83,
      "outputs": []
    },
    {
      "cell_type": "markdown",
      "source": [
        "@tailwind base;\n",
        "@tailwind components;\n",
        "@tailwind utilities;\n"
      ],
      "metadata": {
        "id": "3lx6f7vtsOH0"
      }
    },
    {
      "cell_type": "code",
      "source": [
        "{\n",
        "  \"dependencies\": {\n",
        "    \"react\": \"^18.2.0\",\n",
        "    \"react-dom\": \"^18.2.0\",\n",
        "    \"react-router-dom\": \"^6.17.0\",\n",
        "    \"zustand\": \"^4.4.0\",\n",
        "    \"jspdf\": \"^2.5.1\",\n",
        "    \"canvg\": \"^4.0.0\"\n",
        "  },\n",
        "  \"devDependencies\": {\n",
        "    \"tailwindcss\": \"^3.4.0\",\n",
        "    \"autoprefixer\": \"^10.4.0\",\n",
        "    \"postcss\": \"^8.4.0\",\n",
        "    \"vite\": \"^5.0.0\"\n",
        "  }\n",
        "}\n"
      ],
      "metadata": {
        "id": "EQP1saYpsRnG",
        "colab": {
          "base_uri": "https://localhost:8080/"
        },
        "outputId": "adadca53-f84b-46a8-e5f2-bb5d256dea7a"
      },
      "execution_count": 84,
      "outputs": [
        {
          "output_type": "execute_result",
          "data": {
            "text/plain": [
              "{'dependencies': {'react': '^18.2.0',\n",
              "  'react-dom': '^18.2.0',\n",
              "  'react-router-dom': '^6.17.0',\n",
              "  'zustand': '^4.4.0',\n",
              "  'jspdf': '^2.5.1',\n",
              "  'canvg': '^4.0.0'},\n",
              " 'devDependencies': {'tailwindcss': '^3.4.0',\n",
              "  'autoprefixer': '^10.4.0',\n",
              "  'postcss': '^8.4.0',\n",
              "  'vite': '^5.0.0'}}"
            ]
          },
          "metadata": {},
          "execution_count": 84
        }
      ]
    },
    {
      "cell_type": "code",
      "source": [
        "# Text representation of the UI layout\n",
        "\"\"\"\n",
        "心靈著色生成器 Healing Pages\n",
        "\n",
        "尺寸選擇： [ A4 ▼ ]\n",
        "張數選擇： [ 10 ]\n",
        "主題圖案： [ 曼陀羅 01 ▼ ]\n",
        "經文輸入：\n",
        "┌────────────────────────────────────┐\n",
        "│ 妙法蓮華經...（多段文字）           │\n",
        "└────────────────────────────────────┘\n",
        "匯出格式： [ PDF ▼ ]\n",
        "\n",
        "[ 預覽 ]   [ 生成 ]   [ 匯出 ]\n",
        "\"\"\""
      ],
      "metadata": {
        "colab": {
          "base_uri": "https://localhost:8080/",
          "height": 87
        },
        "id": "IGDl6dnJsUOl",
        "outputId": "bc480d51-a8d3-4956-afb4-e7842c118bc1"
      },
      "execution_count": 85,
      "outputs": [
        {
          "output_type": "execute_result",
          "data": {
            "text/plain": [
              "'\\n心靈著色生成器 Healing Pages\\n\\n尺寸選擇： [ A4 ▼ ]\\n張數選擇： [ 10 ]\\n主題圖案： [ 曼陀羅 01 ▼ ]\\n經文輸入：\\n┌────────────────────────────────────┐\\n│ 妙法蓮華經...（多段文字）           │\\n└────────────────────────────────────┘\\n匯出格式： [ PDF ▼ ]\\n\\n[ 預覽 ]   [ 生成 ]   [ 匯出 ]\\n'"
            ],
            "application/vnd.google.colaboratory.intrinsic+json": {
              "type": "string"
            }
          },
          "metadata": {},
          "execution_count": 85
        }
      ]
    },
    {
      "cell_type": "markdown",
      "source": [
        "// App.jsx\n",
        "import { useRef, useState } from 'react';\n",
        "import jsPDF from 'jspdf';\n",
        "\n",
        "function App() {\n",
        "  const canvasRef = useRef(null);\n",
        "  const [imageSrc, setImageSrc] = useState(null);\n",
        "  const [text, setText] = useState('妙法蓮華經');\n",
        "  const [size, setSize] = useState('A4');\n",
        "\n",
        "  const canvasSize = size === 'A4' ? { width: 595, height: 842 } : { width: 612, height: 612 }; // px for PDF (72dpi)\n",
        "\n",
        "  const handleImageUpload = (e) => {\n",
        "    const file = e.target.files[0];\n",
        "    if (file) setImageSrc(URL.createObjectURL(file));\n",
        "  };\n",
        "\n",
        "  const drawCanvas = () => {\n",
        "    const canvas = canvasRef.current;\n",
        "    const ctx = canvas.getContext('2d');\n",
        "\n",
        "    // 清空畫布\n",
        "    ctx.clearRect(0, 0, canvas.width, canvas.height);\n",
        "\n",
        "    // 背景文字（淡化）\n",
        "    ctx.font = '24px serif';\n",
        "    ctx.fillStyle = 'rgba(150, 150, 150, 0.3)';\n",
        "    ctx.textAlign = 'center';\n",
        "    ctx.fillText(text, canvas.width / 2, canvas.height / 2);\n",
        "\n",
        "    // 圖案素材（主圖）\n",
        "    if (imageSrc) {\n",
        "      const img = new Image();\n",
        "      img.onload = () => {\n",
        "        ctx.drawImage(img, canvas.width / 4, canvas.height / 4, canvas.width / 2, canvas.height / 2);\n",
        "      };\n",
        "      img.src = imageSrc;\n",
        "    }\n",
        "  };\n",
        "\n",
        "  const exportAsPNG = () => {\n",
        "    const canvas = canvasRef.current;\n",
        "    const link = document.createElement('a');\n",
        "    link.download = 'healing-page.png';\n",
        "    link.href = canvas.toDataURL();\n",
        "    link.click();\n",
        "  };\n",
        "\n",
        "  const exportAsPDF = () => {\n",
        "    const canvas = canvasRef.current;\n",
        "    const imgData = canvas.toDataURL('image/png');\n",
        "    const pdf = new jsPDF({\n",
        "      orientation: 'portrait',\n",
        "      unit: 'pt',\n",
        "      format: size === 'A4' ? 'a4' : [612, 612],\n",
        "    });\n",
        "    pdf.addImage(imgData, 'PNG', 0, 0, canvasSize.width, canvasSize.height);\n",
        "    pdf.save('healing-page.pdf');\n",
        "  };\n",
        "\n",
        "  return (\n",
        "    <div className=\"p-6 bg-gray-100 min-h-screen\">\n",
        "      <h1 className=\"text-2xl font-bold mb-4\">心靈著色生成器</h1>\n",
        "\n",
        "      {/* 尺寸選擇 */}\n",
        "      <select value={size} onChange={(e) => setSize(e.target.value)} className=\"mb-4 p-2 border rounded\">\n",
        "        <option value=\"A4\">A4</option>\n",
        "        <option value=\"Square\">8.5×8.5 in</option>\n",
        "      </select>\n",
        "\n",
        "      {/* 圖案素材上傳 */}\n",
        "      <input type=\"file\" accept=\"image/*\" onChange={handleImageUpload} className=\"mb-4\" />\n",
        "\n",
        "      {/* 背景文字輸入 */}\n",
        "      <textarea\n",
        "        value={text}\n",
        "        onChange={(e) => setText(e.target.value)}\n",
        "        rows=\"3\"\n",
        "        className=\"w-full p-2 border rounded mb-4\"\n",
        "        placeholder=\"輸入經文或語錄...\"\n",
        "      />\n",
        "\n",
        "      {/* 繪製按鈕 */}\n",
        "      <button onClick={drawCanvas} className=\"bg-blue-500 text-white px-4 py-2 rounded mr-2\">生成圖像</button>\n",
        "\n",
        "      {/* 匯出按鈕 */}\n",
        "      <button onClick={exportAsPNG} className=\"bg-green-500 text-white px-4 py-2 rounded mr-2\">匯出 PNG</button>\n",
        "      <button onClick={exportAsPDF} className=\"bg-purple-500 text-white px-4 py-2 rounded\">匯出 PDF</button>\n",
        "\n",
        "      {/* 預覽畫布 */}\n",
        "      <div className=\"mt-6\">\n",
        "        <canvas\n",
        "          ref={canvasRef}\n",
        "          width={canvasSize.width}\n",
        "          height={canvasSize.height}\n",
        "          className=\"border shadow-md\"\n",
        "        />\n",
        "      </div>\n",
        "    </div>\n",
        "  );\n",
        "}\n",
        "\n",
        "export default App;\n"
      ],
      "metadata": {
        "id": "AVK780B6puR6"
      }
    },
    {
      "cell_type": "markdown",
      "metadata": {
        "id": "87fbf139"
      },
      "source": [
        "Here are the steps to set up your React project:\n",
        "\n",
        "1.  **Create the project using Vite:** This command will create a new React project with a basic structure.\n",
        "2.  **Navigate into the project directory:** Move into the newly created project folder.\n",
        "3.  **Install dependencies:** Install React, ReactDOM, react-router-dom, zustand, jspdf, and canvg as listed in your `package.json`.\n",
        "4.  **Install Tailwind CSS and its peer dependencies:** Install tailwindcss, postcss, and autoprefixer as dev dependencies.\n",
        "5.  **Initialize Tailwind CSS:** This command will create `tailwind.config.js` and `postcss.config.js`.\n",
        "6.  **Configure template paths in `tailwind.config.js`:** Update the `content` array to include all of your source files.\n",
        "7.  **Add the Tailwind directives to your CSS:** Add the `@tailwind` directives to your main CSS file (usually `src/index.css` or `src/App.css`).\n",
        "8.  **Add dependencies to `package.json`:** Ensure all your dependencies are listed correctly."
      ]
    },
    {
      "cell_type": "code",
      "metadata": {
        "colab": {
          "base_uri": "https://localhost:8080/"
        },
        "id": "279f15f5",
        "outputId": "9783002b-cf4a-4d42-9349-ba2e9d5bbce4"
      },
      "source": [
        "%%bash\n",
        "npm create vite@latest healing-generator -- --template react"
      ],
      "execution_count": 86,
      "outputs": [
        {
          "output_type": "stream",
          "name": "stdout",
          "text": [
            "\n",
            "> npx\n",
            "> create-vite healing-generator --template react\n",
            "\n",
            "\u001b[?25l│\n",
            "◆  Target directory \"healing-generator\" is not empty. Please choose how to proceed:\n",
            "│\n",
            "└\n"
          ]
        }
      ]
    },
    {
      "cell_type": "markdown",
      "source": [
        "%%bash\n",
        "cd healing-generator\n",
        "npm install react react-dom react-router-dom zustand jspdf canvg\n",
        "npm install -D tailwindcss postcss autoprefixer\n",
        "npx tailwindcss init -p"
      ],
      "metadata": {
        "id": "16568655"
      }
    },
    {
      "cell_type": "code",
      "metadata": {
        "colab": {
          "base_uri": "https://localhost:8080/"
        },
        "id": "b92600ac",
        "outputId": "1b5e580d-4e76-4eca-ba9f-ade9dd219e54"
      },
      "source": [
        "%%bash\n",
        "npm install react react-dom react-router-dom zustand jspdf canvg"
      ],
      "execution_count": 87,
      "outputs": [
        {
          "output_type": "stream",
          "name": "stdout",
          "text": [
            "\n",
            "up to date, audited 48 packages in 918ms\n",
            "\n",
            "8 packages are looking for funding\n",
            "  run `npm fund` for details\n",
            "\n",
            "found 0 vulnerabilities\n"
          ]
        }
      ]
    },
    {
      "cell_type": "code",
      "metadata": {
        "colab": {
          "base_uri": "https://localhost:8080/"
        },
        "id": "c97c1fa7",
        "outputId": "2a965fd5-a66d-4239-c16e-6c8e1970d048"
      },
      "source": [
        "%%bash\n",
        "npm install -D tailwindcss postcss autoprefixer"
      ],
      "execution_count": 88,
      "outputs": [
        {
          "output_type": "stream",
          "name": "stdout",
          "text": [
            "\n",
            "up to date, audited 48 packages in 760ms\n",
            "\n",
            "8 packages are looking for funding\n",
            "  run `npm fund` for details\n",
            "\n",
            "found 0 vulnerabilities\n"
          ]
        }
      ]
    },
    {
      "cell_type": "markdown",
      "source": [
        "cd healing-generator\n",
        "npx tailwindcss init -p"
      ],
      "metadata": {
        "id": "fd38e327"
      }
    },
    {
      "cell_type": "markdown",
      "source": [
        "// tailwind.config.js\n",
        "/** @type {import('tailwindcss').Config} */\n",
        "export default {\n",
        "  content: [\n",
        "    \"./index.html\",\n",
        "    \"./src/**/*.{js,ts,jsx,tsx}\",\n",
        "  ],\n",
        "  theme: {\n",
        "    extend: {},\n",
        "  },\n",
        "  plugins: [],\n",
        "}"
      ],
      "metadata": {
        "id": "f74092fe"
      }
    },
    {
      "cell_type": "markdown",
      "source": [
        "/* src/index.css or src/App.css */\n",
        "@tailwind base;\n",
        "@tailwind components;\n",
        "@tailwind utilities;"
      ],
      "metadata": {
        "id": "a7d94570"
      }
    },
    {
      "cell_type": "markdown",
      "source": [
        "// package.json - ensure these dependencies are present\n",
        "{\n",
        "  \"dependencies\": {\n",
        "    \"react\": \"^18.2.0\",\n",
        "    \"react-dom\": \"^18.2.0\",\n",
        "    \"react-router-dom\": \"^6.17.0\",\n",
        "    \"zustand\": \"^4.4.0\",\n",
        "    \"jspdf\": \"^2.5.1\",\n",
        "    \"canvg\": \"^4.0.0\"\n",
        "  },\n",
        "  \"devDependencies\": {\n",
        "    \"tailwindcss\": \"^3.4.0\",\n",
        "    \"autoprefixer\": \"^10.4.0\",\n",
        "    \"postcss\": \"^8.4.0\",\n",
        "    \"vite\": \"^5.0.0\"\n",
        "  }\n",
        "}"
      ],
      "metadata": {
        "id": "5f7a410b"
      }
    }
  ]
}